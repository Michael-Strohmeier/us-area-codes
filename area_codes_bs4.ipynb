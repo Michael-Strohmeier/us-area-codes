{
  "nbformat": 4,
  "nbformat_minor": 0,
  "metadata": {
    "colab": {
      "name": "area_codes_bs4.ipynb",
      "provenance": []
    },
    "kernelspec": {
      "name": "python3",
      "display_name": "Python 3"
    }
  },
  "cells": [
    {
      "cell_type": "code",
      "metadata": {
        "id": "grEszWBQxQGu",
        "colab_type": "code",
        "colab": {}
      },
      "source": [
        "from urllib.request import urlopen\n",
        "from bs4 import BeautifulSoup\n",
        "import pandas as pd"
      ],
      "execution_count": 23,
      "outputs": []
    },
    {
      "cell_type": "code",
      "metadata": {
        "id": "4MU-b6_LxhFG",
        "colab_type": "code",
        "colab": {}
      },
      "source": [
        "url = \"https://en.wikipedia.org/wiki/List_of_North_American_Numbering_Plan_area_codes\"\n",
        "soup = BeautifulSoup(urlopen(url).read())"
      ],
      "execution_count": 3,
      "outputs": []
    },
    {
      "cell_type": "code",
      "metadata": {
        "id": "92yZy7XPxyoj",
        "colab_type": "code",
        "colab": {}
      },
      "source": [
        "tables = soup.find_all(\"table\")"
      ],
      "execution_count": 4,
      "outputs": []
    },
    {
      "cell_type": "code",
      "metadata": {
        "id": "7lofTcF-x6hx",
        "colab_type": "code",
        "colab": {}
      },
      "source": [
        "rows = []\n",
        "for table in tables:\n",
        "  for tr in table.find_all(\"tr\"):\n",
        "    temp = []\n",
        "    for cell in tr.find_all(\"td\"):\n",
        "      cell = cell.text\n",
        "      cell = cell.replace(\"\\n\", \"\")\n",
        "      temp.append(cell)\n",
        "\n",
        "    if len(temp) == 3 and temp != [] and temp[1] != \"not in use\":\n",
        "      rows.append(temp)"
      ],
      "execution_count": 44,
      "outputs": []
    },
    {
      "cell_type": "code",
      "metadata": {
        "id": "A9TT-wu6y0ir",
        "colab_type": "code",
        "colab": {}
      },
      "source": [
        "df = pd.DataFrame(rows)"
      ],
      "execution_count": 45,
      "outputs": []
    },
    {
      "cell_type": "code",
      "metadata": {
        "id": "-SvFFHiczc1b",
        "colab_type": "code",
        "colab": {
          "base_uri": "https://localhost:8080/",
          "height": 54
        },
        "outputId": "f968bd0b-d17d-4c1e-e105-d2eac941491f"
      },
      "source": [
        "def get_triangular_numbers(n: int):\n",
        "  temp = []\n",
        "  j = 0\n",
        "  for i in range(1, n):\n",
        "    j += i\n",
        "    temp.append(str(j))\n",
        "\n",
        "  return temp\n",
        "\n",
        "tri_nums = get_triangular_numbers(100)\n",
        "print(tri_nums)"
      ],
      "execution_count": 54,
      "outputs": [
        {
          "output_type": "stream",
          "text": [
            "['1', '3', '6', '10', '15', '21', '28', '36', '45', '55', '66', '78', '91', '105', '120', '136', '153', '171', '190', '210', '231', '253', '276', '300', '325', '351', '378', '406', '435', '465', '496', '528', '561', '595', '630', '666', '703', '741', '780', '820', '861', '903', '946', '990', '1035', '1081', '1128', '1176', '1225', '1275', '1326', '1378', '1431', '1485', '1540', '1596', '1653', '1711', '1770', '1830', '1891', '1953', '2016', '2080', '2145', '2211', '2278', '2346', '2415', '2485', '2556', '2628', '2701', '2775', '2850', '2926', '3003', '3081', '3160', '3240', '3321', '3403', '3486', '3570', '3655', '3741', '3828', '3916', '4005', '4095', '4186', '4278', '4371', '4465', '4560', '4656', '4753', '4851', '4950']\n"
          ],
          "name": "stdout"
        }
      ]
    },
    {
      "cell_type": "code",
      "metadata": {
        "id": "4Lbo3gE11TIi",
        "colab_type": "code",
        "colab": {
          "base_uri": "https://localhost:8080/",
          "height": 221
        },
        "outputId": "eec03bf8-83d3-418a-d919-313190f3ade0"
      },
      "source": [
        "l = []\n",
        "for row in rows:\n",
        "  if row[0] in tri_nums:\n",
        "    l.append(row[1].split(\" \")[0])\n",
        "\n",
        "l = list(set(l))\n",
        "l.sort()\n",
        "# states with triangular number area codes\n",
        "for state in l:\n",
        "  print(state)"
      ],
      "execution_count": 82,
      "outputs": [
        {
          "output_type": "stream",
          "text": [
            "Alabama\n",
            "Alberta\n",
            "California\n",
            "Florida\n",
            "Illinois\n",
            "Massachusetts\n",
            "Michigan\n",
            "Montana\n",
            "Texas\n",
            "Utah\n",
            "Virginia\n",
            "Washington\n"
          ],
          "name": "stdout"
        }
      ]
    }
  ]
}